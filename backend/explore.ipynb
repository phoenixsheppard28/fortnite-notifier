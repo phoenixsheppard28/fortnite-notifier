{
 "cells": [
  {
   "cell_type": "code",
   "execution_count": null,
   "id": "df408102",
   "metadata": {},
   "outputs": [],
   "source": [
    "import json\n",
    "with open(\"newdata.json\",\"r\") as w:\n",
    "    data: dict = json.load(w)\n",
    "\n",
    "items: list[dict] = data['items']\n"
   ]
  },
  {
   "cell_type": "code",
   "execution_count": null,
   "id": "4cb1f071",
   "metadata": {},
   "outputs": [],
   "source": [
    "types = set()\n",
    "\n",
    "for item in items:\n",
    "    tags = item[\"gameplayTags\"]\n",
    "    type = item[\"type\"][\"name\"]\n",
    "    if \"Cosmetics.Source.ItemShop\" in tags:\n",
    "        types.add(type)"
   ]
  },
  {
   "cell_type": "code",
   "execution_count": null,
   "id": "2ebb46f6",
   "metadata": {},
   "outputs": [],
   "source": [
    "print(types)"
   ]
  },
  {
   "cell_type": "code",
   "execution_count": null,
   "id": "6c0b75db",
   "metadata": {},
   "outputs": [],
   "source": [
    "for item in items:\n",
    "    if item[\"type\"][\"name\"] == \"itemaccess\" and item[\"price\"] == 0:\n",
    "        print(item[\"name\"])"
   ]
  },
  {
   "cell_type": "code",
   "execution_count": null,
   "id": "f4c35818",
   "metadata": {},
   "outputs": [],
   "source": [
    "rarities = set()\n",
    "\n",
    "for item in items:\n",
    "    tags = item[\"gameplayTags\"]\n",
    "    rarity = item[\"rarity\"][\"id\"]\n",
    "    if \"Cosmetics.Source.ItemShop\" in tags:\n",
    "        rarities.add(rarity)\n",
    "\n",
    "print(rarities)"
   ]
  },
  {
   "cell_type": "code",
   "execution_count": null,
   "id": "005cbce8",
   "metadata": {},
   "outputs": [],
   "source": [
    "one =[]\n",
    "two = []\n",
    "for item in items:\n",
    "    if item[\"releaseDate\"] is None and \"Cosmetics.Source.ItemShop\" in item[\"gameplayTags\"]:\n",
    "        one.append(item[\"name\"])\n",
    "\n",
    "for item in items:\n",
    "    if item[\"lastAppearance\"] is None and \"Cosmetics.Source.ItemShop\" in item[\"gameplayTags\"]:\n",
    "        two.append(item[\"name\"])\n",
    "\n",
    "print(one == two)\n",
    "print(len(one))\n",
    "print(len(items))\n",
    "\n"
   ]
  },
  {
   "cell_type": "code",
   "execution_count": null,
   "id": "d5061287",
   "metadata": {},
   "outputs": [],
   "source": [
    "nullable = set()\n",
    "\n",
    "for item in items:\n",
    "    for field in item:\n",
    "        if item[field] is None:\n",
    "            nullable.add(field)\n",
    "\n",
    "\n",
    "print(nullable)"
   ]
  }
 ],
 "metadata": {
  "kernelspec": {
   "display_name": "Python 3",
   "language": "python",
   "name": "python3"
  },
  "language_info": {
   "codemirror_mode": {
    "name": "ipython",
    "version": 3
   },
   "file_extension": ".py",
   "mimetype": "text/x-python",
   "name": "python",
   "nbconvert_exporter": "python",
   "pygments_lexer": "ipython3",
   "version": "3.11.4"
  }
 },
 "nbformat": 4,
 "nbformat_minor": 5
}
